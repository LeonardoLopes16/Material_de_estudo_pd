{
 "cells": [
  {
   "cell_type": "markdown",
   "metadata": {},
   "source": [
    "1. Criação de DataFrame: DataFrame é uma estrutura de dados bidimensional, ou seja, os dados são alinhados de forma tabular em linhas e colunas."
   ]
  },
  {
   "cell_type": "code",
   "execution_count": null,
   "metadata": {},
   "outputs": [],
   "source": [
    "import pandas as pd\n",
    "\n",
    "data = {\n",
    "    'Nome': ['João', 'Ana', 'Carlos'],\n",
    "    'Idade': [23, 45, 30],\n",
    "    'Cidade': ['São Paulo', 'Rio de Janeiro', 'Belo Horizonte']\n",
    "}\n",
    "\n",
    "df = pd.DataFrame(data)\n"
   ]
  },
  {
   "cell_type": "markdown",
   "metadata": {},
   "source": [
    "2. Leitura de arquivos: Pandas pode ler arquivos CSV, Excel, SQL e muitos outros tipos de arquivos.\n"
   ]
  },
  {
   "cell_type": "code",
   "execution_count": null,
   "metadata": {},
   "outputs": [],
   "source": [
    "df = pd.read_csv('nome_do_arquivo.csv')\n"
   ]
  },
  {
   "cell_type": "markdown",
   "metadata": {},
   "source": [
    "3. Seleção de dados: Você pode selecionar dados de um DataFrame de várias maneiras.\n"
   ]
  },
  {
   "cell_type": "code",
   "execution_count": null,
   "metadata": {},
   "outputs": [],
   "source": [
    "# Selecionando uma coluna\n",
    "df['Nome']\n",
    "\n",
    "# Selecionando várias colunas\n",
    "df[['Nome', 'Idade']]\n",
    "\n",
    "# Selecionando linhas\n",
    "df[0:2]\n"
   ]
  },
  {
   "cell_type": "markdown",
   "metadata": {},
   "source": [
    "4. Filtragem de dados: Pandas permite filtrar dados com base em condições.\n"
   ]
  },
  {
   "cell_type": "code",
   "execution_count": null,
   "metadata": {},
   "outputs": [],
   "source": [
    "# Filtrando por idade\n",
    "df[df['Idade'] > 30]\n"
   ]
  },
  {
   "cell_type": "markdown",
   "metadata": {},
   "source": [
    "5. Manipulação de dados: Pandas oferece uma variedade de funções para manipular dados, como groupby, merge, concat, etc."
   ]
  },
  {
   "cell_type": "code",
   "execution_count": null,
   "metadata": {},
   "outputs": [],
   "source": [
    "# Agrupando por cidade e calculando a média de idade\n",
    "df.groupby('Cidade')['Idade'].mean()\n"
   ]
  },
  {
   "cell_type": "markdown",
   "metadata": {},
   "source": [
    "6. Tratamento de dados faltantes: Pandas oferece funções para tratar dados faltantes, como dropna e fillna.\n"
   ]
  },
  {
   "cell_type": "code",
   "execution_count": null,
   "metadata": {},
   "outputs": [],
   "source": [
    "# Preenchendo dados faltantes com zero\n",
    "df.fillna(0)\n"
   ]
  },
  {
   "cell_type": "markdown",
   "metadata": {},
   "source": [
    "7. Visualização de dados: Pandas se integra bem com Matplotlib para fornecer recursos de visualização de dados.\n"
   ]
  },
  {
   "cell_type": "code",
   "execution_count": null,
   "metadata": {},
   "outputs": [],
   "source": [
    "df['Idade'].plot(kind='hist')\n"
   ]
  },
  {
   "cell_type": "markdown",
   "metadata": {},
   "source": [
    "#### **Ecercicíos**:"
   ]
  },
  {
   "cell_type": "code",
   "execution_count": null,
   "metadata": {},
   "outputs": [],
   "source": [
    "# 1.Crie um DataFrame a partir de um dicionário ou de um arquivo CSV.\n",
    "\n",
    "df = pd.read_excel('AtividadeExtraVoo(85).xlsx', sheet_name='AtividadeExtraVoo')"
   ]
  },
  {
   "cell_type": "code",
   "execution_count": null,
   "metadata": {},
   "outputs": [],
   "source": [
    "# 2.Selecione uma coluna do DataFrame.\n",
    "\n",
    "print(df['Guerra'][2])"
   ]
  },
  {
   "cell_type": "code",
   "execution_count": null,
   "metadata": {},
   "outputs": [],
   "source": [
    "# 3.Selecione várias colunas do DataFrame.\n",
    "print(df[['Guerra','Nome']])"
   ]
  },
  {
   "cell_type": "code",
   "execution_count": null,
   "metadata": {},
   "outputs": [],
   "source": [
    "# 4.Selecione um intervalo de linhas do DataFrame.\n",
    "print(df[0:2])"
   ]
  },
  {
   "cell_type": "code",
   "execution_count": null,
   "metadata": {},
   "outputs": [],
   "source": [
    "# 5.Filtre o DataFrame com base em uma condição.\n",
    "print(df[df['CIF'] > 45777])\n"
   ]
  },
  {
   "cell_type": "code",
   "execution_count": null,
   "metadata": {},
   "outputs": [],
   "source": [
    "# 6.Agrupe o DataFrame por uma coluna e calcule a média de outra coluna.\n",
    "\n",
    "##Não vou fazer pois os dados que estamos trabalhando sao strings"
   ]
  },
  {
   "cell_type": "code",
   "execution_count": null,
   "metadata": {},
   "outputs": [],
   "source": [
    "# 7.Trate os dados faltantes no DataFrame.\n",
    "df.fillna(0)"
   ]
  },
  {
   "cell_type": "code",
   "execution_count": null,
   "metadata": {},
   "outputs": [],
   "source": [
    "# 8.Crie um histograma de uma coluna do DataFrame.\n",
    "\n",
    "#Precisa utilizar matplotlib"
   ]
  },
  {
   "cell_type": "markdown",
   "metadata": {},
   "source": [
    "## Aula 2: Funções Avançadas do Pandas"
   ]
  },
  {
   "cell_type": "markdown",
   "metadata": {},
   "source": [
    "1. **Manipulação de strings**: Pandas oferece uma série de operações de string, que tornam fácil operar em dados de string.\n"
   ]
  },
  {
   "cell_type": "code",
   "execution_count": null,
   "metadata": {},
   "outputs": [],
   "source": [
    "# Convertendo uma coluna para string\n",
    "df['coluna'] = df['coluna'].astype(str)\n",
    "\n",
    "# Aplicando uma função de string a uma coluna\n",
    "df['coluna'] = df['coluna'].str.lower()\n"
   ]
  },
  {
   "cell_type": "markdown",
   "metadata": {},
   "source": [
    "2. **Aplicação de funções**: Você pode aplicar uma função a cada elemento de uma coluna usando a função apply.\n"
   ]
  },
  {
   "cell_type": "code",
   "execution_count": null,
   "metadata": {},
   "outputs": [],
   "source": [
    "# Definindo a função\n",
    "def dobrar(x):\n",
    "    return x * 2\n",
    "\n",
    "# Aplicando a função\n",
    "df['coluna'] = df['coluna'].apply(dobrar)\n"
   ]
  },
  {
   "cell_type": "markdown",
   "metadata": {},
   "source": [
    "\n",
    "3. **Merge, join e concatenação**: Pandas oferece várias maneiras de combinar DataFrames, incluindo merge e concatenação.\n"
   ]
  },
  {
   "cell_type": "code",
   "execution_count": null,
   "metadata": {},
   "outputs": [],
   "source": [
    "# Concatenando dois DataFrames\n",
    "df3 = pd.concat([df1, df2])\n",
    "\n",
    "# Fazendo merge de dois DataFrames\n",
    "df3 = pd.merge(df1, df2, on='coluna_comum')\n"
   ]
  },
  {
   "cell_type": "markdown",
   "metadata": {},
   "source": [
    "4.**Pivotamento de dados**: Pandas permite que você pivote seus dados para obter uma visão diferente dos dados.\n"
   ]
  },
  {
   "cell_type": "code",
   "execution_count": null,
   "metadata": {},
   "outputs": [],
   "source": [
    "# Pivotando os dados\n",
    "pivot_df = df.pivot(index='coluna1', columns='coluna2', values='coluna3')\n"
   ]
  },
  {
   "cell_type": "markdown",
   "metadata": {},
   "source": [
    "5 . **Manipulação de datas e horas**: Pandas é muito poderoso quando se trata de manipular datas e horas.\n"
   ]
  },
  {
   "cell_type": "code",
   "execution_count": null,
   "metadata": {},
   "outputs": [],
   "source": [
    "# Convertendo uma coluna para datetime\n",
    "df['data'] = pd.to_datetime(df['data'])\n",
    "\n",
    "# Extraindo o ano de uma coluna de data\n",
    "df['ano'] = df['data'].dt.year\n"
   ]
  },
  {
   "cell_type": "markdown",
   "metadata": {},
   "source": [
    "#### **Exercicíos:**"
   ]
  },
  {
   "cell_type": "code",
   "execution_count": null,
   "metadata": {},
   "outputs": [],
   "source": [
    "#1. Converta uma coluna do seu DataFrame para string e aplique uma função de string a ela.\n"
   ]
  },
  {
   "cell_type": "code",
   "execution_count": null,
   "metadata": {},
   "outputs": [],
   "source": [
    "#2. Aplique uma função a uma coluna do seu DataFrame usando a função apply.\n"
   ]
  },
  {
   "cell_type": "code",
   "execution_count": null,
   "metadata": {},
   "outputs": [],
   "source": [
    "# 3.Concatene dois DataFrames.\n"
   ]
  },
  {
   "cell_type": "code",
   "execution_count": null,
   "metadata": {},
   "outputs": [],
   "source": [
    "#4. Faça o merge de dois DataFrames em uma coluna comum.\n"
   ]
  },
  {
   "cell_type": "code",
   "execution_count": null,
   "metadata": {},
   "outputs": [],
   "source": [
    "#5. Pivote os dados do seu DataFrame.\n"
   ]
  },
  {
   "cell_type": "code",
   "execution_count": null,
   "metadata": {},
   "outputs": [],
   "source": [
    "#6. Converta uma coluna do seu DataFrame para datetime e extraia o ano dela.\n"
   ]
  },
  {
   "cell_type": "markdown",
   "metadata": {},
   "source": [
    "### **Aula 3: Técnicas Avançadas de Manipulação de Dados com Pandas**\n",
    "\n"
   ]
  },
  {
   "cell_type": "markdown",
   "metadata": {},
   "source": [
    "1. Manipulação de Índices: Os índices são muito úteis no Pandas e permitem que você acesse as linhas de forma mais eficiente.\n"
   ]
  },
  {
   "cell_type": "code",
   "execution_count": null,
   "metadata": {},
   "outputs": [],
   "source": [
    "# Definindo uma coluna como índice\n",
    "df.set_index('Nome', inplace=True)\n",
    "\n",
    "# Resetando o índice\n",
    "df.reset_index(inplace=True)\n"
   ]
  },
  {
   "cell_type": "markdown",
   "metadata": {},
   "source": [
    "2. Métodos de Janela: Os métodos de janela são usados para operações de janela deslizante. Eles são muito úteis para análise de séries temporais.\n"
   ]
  },
  {
   "cell_type": "code",
   "execution_count": null,
   "metadata": {},
   "outputs": [],
   "source": [
    "# Calculando a média móvel\n",
    "df['coluna'].rolling(window=3).mean()\n"
   ]
  },
  {
   "cell_type": "markdown",
   "metadata": {},
   "source": [
    "3. Crosstab: O método crosstab permite que você crie uma tabela de contingência, que é uma tabela mostrando a frequência com que certos grupos de dados aparecem.\n",
    "\n"
   ]
  },
  {
   "cell_type": "code",
   "execution_count": null,
   "metadata": {},
   "outputs": [],
   "source": [
    "pd.crosstab(df['coluna1'], df['coluna2'])\n"
   ]
  },
  {
   "cell_type": "markdown",
   "metadata": {},
   "source": [
    "4. Cut e qcut: Esses métodos são usados para dividir os dados em compartimentos.\n"
   ]
  },
  {
   "cell_type": "code",
   "execution_count": null,
   "metadata": {},
   "outputs": [],
   "source": [
    "# Cut\n",
    "pd.cut(df['coluna'], bins=3)\n",
    "\n",
    "# qcut\n",
    "pd.qcut(df['coluna'], q=4)\n"
   ]
  },
  {
   "cell_type": "markdown",
   "metadata": {},
   "source": [
    "5. Get dummies: Este método é usado para codificar variáveis categóricas.\n"
   ]
  },
  {
   "cell_type": "code",
   "execution_count": null,
   "metadata": {},
   "outputs": [],
   "source": [
    "pd.get_dummies(df['coluna'])\n"
   ]
  },
  {
   "cell_type": "markdown",
   "metadata": {},
   "source": [
    "#### **Exercicíos:**"
   ]
  },
  {
   "cell_type": "code",
   "execution_count": 73,
   "metadata": {},
   "outputs": [],
   "source": [
    "#1.Defina uma coluna do seu DataFrame como índice e depois redefina o índice.\n"
   ]
  },
  {
   "cell_type": "code",
   "execution_count": null,
   "metadata": {},
   "outputs": [],
   "source": [
    "#2. Calcule a média móvel de uma coluna do seu DataFrame.\n"
   ]
  },
  {
   "cell_type": "code",
   "execution_count": null,
   "metadata": {},
   "outputs": [],
   "source": [
    "#3. Crie uma tabela de contingência de duas colunas do seu DataFrame.\n"
   ]
  },
  {
   "cell_type": "code",
   "execution_count": null,
   "metadata": {},
   "outputs": [],
   "source": [
    "#4. Divida uma coluna do seu DataFrame em compartimentos usando cut e qcut.\n"
   ]
  },
  {
   "cell_type": "code",
   "execution_count": null,
   "metadata": {},
   "outputs": [],
   "source": [
    "#5. Codifique uma variável categórica do seu DataFrame usando get_dummies.\n"
   ]
  },
  {
   "cell_type": "markdown",
   "metadata": {},
   "source": [
    "### **Aula 4: Manipulação de Dados Temporais com Pandas**\n",
    "\n"
   ]
  },
  {
   "cell_type": "markdown",
   "metadata": {},
   "source": [
    "1.Conversão de strings para datetime: Pandas é muito poderoso quando se trata de manipular datas e horas.\n"
   ]
  },
  {
   "cell_type": "code",
   "execution_count": null,
   "metadata": {},
   "outputs": [],
   "source": [
    "df['data'] = pd.to_datetime(df['data'])\n"
   ]
  },
  {
   "cell_type": "markdown",
   "metadata": {},
   "source": [
    "2.Extração de partes de uma data: Você pode extrair o ano, mês, dia, hora, minuto e segundo de uma data.\n"
   ]
  },
  {
   "cell_type": "code",
   "execution_count": null,
   "metadata": {},
   "outputs": [],
   "source": [
    "df['ano'] = df['data'].dt.year\n",
    "df['mês'] = df['data'].dt.month\n",
    "df['dia'] = df['data'].dt.day\n",
    "df['hora'] = df['data'].dt.hour\n",
    "df['minuto'] = df['data'].dt.minute\n",
    "df['segundo'] = df['data'].dt.second\n"
   ]
  },
  {
   "cell_type": "markdown",
   "metadata": {},
   "source": [
    "3. Diferença entre datas: Pandas permite que você calcule a diferença entre duas datas.\n"
   ]
  },
  {
   "cell_type": "code",
   "execution_count": null,
   "metadata": {},
   "outputs": [],
   "source": [
    "df['diferença'] = df['data1'] - df['data2']\n"
   ]
  },
  {
   "cell_type": "markdown",
   "metadata": {},
   "source": [
    "4.Resampling: Resampling é uma técnica muito útil em séries temporais onde você pode alterar a frequência dos seus dados.\n"
   ]
  },
  {
   "cell_type": "code",
   "execution_count": null,
   "metadata": {},
   "outputs": [],
   "source": [
    "# Resampling para frequência mensal e calculando a média\n",
    "df.resample('M').mean()\n"
   ]
  },
  {
   "cell_type": "markdown",
   "metadata": {},
   "source": [
    "5.Shifting: Shifting é uma técnica onde você pode deslocar os dados para frente ou para trás.\n"
   ]
  },
  {
   "cell_type": "code",
   "execution_count": null,
   "metadata": {},
   "outputs": [],
   "source": [
    "# Shifting os dados 2 períodos para frente\n",
    "df.shift(2)\n"
   ]
  },
  {
   "cell_type": "markdown",
   "metadata": {},
   "source": [
    "#### **Exercicíos:**"
   ]
  },
  {
   "cell_type": "markdown",
   "metadata": {},
   "source": [
    "1.Converta uma coluna do seu DataFrame para datetime.\n"
   ]
  },
  {
   "cell_type": "markdown",
   "metadata": {},
   "source": [
    "2.Extraia o ano, mês, dia, hora, minuto e segundo de uma coluna de data.\n"
   ]
  },
  {
   "cell_type": "markdown",
   "metadata": {},
   "source": [
    "Calcule a diferença entre duas colunas de data.\n"
   ]
  },
  {
   "cell_type": "markdown",
   "metadata": {},
   "source": [
    "Faça resampling de uma coluna de data para uma frequência mensal e calcule a média.\n"
   ]
  },
  {
   "cell_type": "markdown",
   "metadata": {},
   "source": [
    "Desloque os dados de uma coluna 2 períodos para frente.\n"
   ]
  },
  {
   "cell_type": "markdown",
   "metadata": {},
   "source": []
  }
 ],
 "metadata": {
  "kernelspec": {
   "display_name": "Python 3",
   "language": "python",
   "name": "python3"
  },
  "language_info": {
   "codemirror_mode": {
    "name": "ipython",
    "version": 3
   },
   "file_extension": ".py",
   "mimetype": "text/x-python",
   "name": "python",
   "nbconvert_exporter": "python",
   "pygments_lexer": "ipython3",
   "version": "3.8.0"
  }
 },
 "nbformat": 4,
 "nbformat_minor": 2
}
